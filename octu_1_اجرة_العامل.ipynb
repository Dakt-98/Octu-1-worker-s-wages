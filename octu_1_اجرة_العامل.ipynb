{
  "nbformat": 4,
  "nbformat_minor": 0,
  "metadata": {
    "colab": {
      "provenance": [],
      "authorship_tag": "ABX9TyP2mQ+yWyKiTEQ36M/MPv2w",
      "include_colab_link": true
    },
    "kernelspec": {
      "name": "python3",
      "display_name": "Python 3"
    },
    "language_info": {
      "name": "python"
    }
  },
  "cells": [
    {
      "cell_type": "markdown",
      "metadata": {
        "id": "view-in-github",
        "colab_type": "text"
      },
      "source": [
        "<a href=\"https://colab.research.google.com/github/Dakt-98/Octu-1-worker-s-wages/blob/main/octu_1_%D8%A7%D8%AC%D8%B1%D8%A9_%D8%A7%D9%84%D8%B9%D8%A7%D9%85%D9%84.ipynb\" target=\"_parent\"><img src=\"https://colab.research.google.com/assets/colab-badge.svg\" alt=\"Open In Colab\"/></a>"
      ]
    },
    {
      "cell_type": "code",
      "execution_count": null,
      "metadata": {
        "colab": {
          "base_uri": "https://localhost:8080/"
        },
        "id": "-7iftBj8luK-",
        "outputId": "246022ba-cf03-46b5-a209-75b81d9f4b45"
      },
      "outputs": [
        {
          "output_type": "stream",
          "name": "stdout",
          "text": [
            "Enter you PIN number:\n",
            "54528\n",
            "5\n"
          ]
        }
      ],
      "source": [
        "atm=input(\"Enter you PIN number:\\n\")\n",
        "len(str(atm))\n",
        "print(len(str(atm)))"
      ]
    },
    {
      "cell_type": "code",
      "source": [
        "#لكي اتذكر ان المدخل نص وسيتم تحويله ضع (str)\n",
        "str_test=input(\"enter two digits\")\n",
        "#الان نحول النص الى رقم صحيح لانها عملية جمع وطرح\n",
        "first_number=int(str_test[0]) #لا تنسي تحديد كم خانه على حسب المطلوب\n",
        "second_number=int(str_test[1])\n",
        "#الان نجمع الناتج ك رقم صحيح (int)\n",
        "result=first_number+second_number\n",
        "#الان نحول الرقم الصحيح الى نص لكي تتم طباعته (int to str)\n",
        "str_result=str(result)\n",
        "print(\"The result is :\" + str_result)"
      ],
      "metadata": {
        "colab": {
          "base_uri": "https://localhost:8080/"
        },
        "id": "U4zvmZtGlfQ3",
        "outputId": "e4aeb150-cbd6-4bf7-9c22-2f124393676f"
      },
      "execution_count": 6,
      "outputs": [
        {
          "output_type": "stream",
          "name": "stdout",
          "text": [
            "enter two digits33\n",
            "The result is :6\n"
          ]
        }
      ]
    },
    {
      "cell_type": "code",
      "source": [
        "str_tall=input(\"Please enter the tall :\\n\")\n",
        "str_wide=input(\"Please enter the wide :\\n\")\n",
        "str_much=input(\"How much for one meter ?\\n\")\n",
        "#convert type\n",
        "tall=float(str_tall)\n",
        "wide=float(str_wide)\n",
        "#give me the area\n",
        "area=tall*wide\n",
        "#change it from float to str\n",
        "str_area=str(area)\n",
        "print(\"The total area is :\" + str_area)\n",
        "#the price convert\n",
        "much=float(str_much)\n",
        "result=area*much # (float *  float)\n",
        "#change float to str to print it\n",
        "str_result=str(area*much)\n",
        "print(\"Give the guy :\" + str_result)\n",
        "#😍😍\n"
      ],
      "metadata": {
        "colab": {
          "base_uri": "https://localhost:8080/"
        },
        "id": "VNOdB2NinyiF",
        "outputId": "129456ab-5dca-4788-9338-8656a5e72cbd"
      },
      "execution_count": 9,
      "outputs": [
        {
          "output_type": "stream",
          "name": "stdout",
          "text": [
            "Please enter the tall :\n",
            "5.3\n",
            "Please enter the wide :\n",
            "7.8\n",
            "How much for one meter ?\n",
            "3.5\n",
            "The total area is :41.339999999999996\n",
            "Give the guy :144.69\n"
          ]
        }
      ]
    },
    {
      "cell_type": "code",
      "source": [],
      "metadata": {
        "id": "YqCMFR-Qqe4l"
      },
      "execution_count": null,
      "outputs": []
    }
  ]
}